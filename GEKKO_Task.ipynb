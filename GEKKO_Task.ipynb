{
  "cells": [
    {
      "cell_type": "markdown",
      "metadata": {
        "id": "view-in-github",
        "colab_type": "text"
      },
      "source": [
        "<a href=\"https://colab.research.google.com/github/Preeti-Yadav-CS1/gekko/blob/main/GEKKO_Task.ipynb\" target=\"_parent\"><img src=\"https://colab.research.google.com/assets/colab-badge.svg\" alt=\"Open In Colab\"/></a>"
      ]
    },
    {
      "cell_type": "markdown",
      "metadata": {
        "id": "YpHDvlKyOGhj"
      },
      "source": [
        "# PRACTICAL 2"
      ]
    },
    {
      "cell_type": "markdown",
      "metadata": {
        "id": "CFlymAyzOGhp"
      },
      "source": [
        "# 1: Solver selection\n",
        "Solve y2=1 with APOPT(large scale optamization) solver. See APMonitor documentation(optimization software for mixed-integer and differential algebraic equations) or GEKKO documentation for additional solver options."
      ]
    },
    {
      "cell_type": "code",
      "execution_count": null,
      "metadata": {
        "id": "DlrHCwv0OGhs",
        "outputId": "32f87232-f8bb-4877-a72e-03666deb89ff"
      },
      "outputs": [
        {
          "name": "stdout",
          "output_type": "stream",
          "text": [
            "apm 103.196.214.144_gk_model7 <br><pre> ----------------------------------------------------------------\n",
            " APMonitor, Version 1.0.0\n",
            " APMonitor Optimization Suite\n",
            " ----------------------------------------------------------------\n",
            " \n",
            " \n",
            " --------- APM Model Size ------------\n",
            " Each time step contains\n",
            "   Objects      :            0\n",
            "   Constants    :            0\n",
            "   Variables    :            1\n",
            "   Intermediates:            0\n",
            "   Connections  :            0\n",
            "   Equations    :            1\n",
            "   Residuals    :            1\n",
            " \n",
            " Number of state variables:              1\n",
            " Number of total equations: -            1\n",
            " Number of slack variables: -            0\n",
            " ---------------------------------------\n",
            " Degrees of freedom       :              0\n",
            " \n",
            " ----------------------------------------------\n",
            " Steady State Optimization with APOPT Solver\n",
            " ----------------------------------------------\n",
            " \n",
            " Iter    Objective  Convergence\n",
            "    0  5.62500E-21  3.75000E-01\n",
            "    1  5.06250E-22  1.40625E-01\n",
            "    2  6.09849E-24  1.26562E-02\n",
            "    3  9.29223E-28  1.52462E-04\n",
            "    4  9.29223E-28  1.52462E-04\n",
            " Successful solution\n",
            " \n",
            " ---------------------------------------------------\n",
            " Solver         :  APOPT (v1.0)\n",
            " Solution time  :   3.550000002724119E-002 sec\n",
            " Objective      :   0.000000000000000E+000\n",
            " Successful solution\n",
            " ---------------------------------------------------\n",
            " \n",
            "y: [1.0000000465]\n"
          ]
        }
      ],
      "source": [
        "from gekko import GEKKO\n",
        "m = GEKKO()           # create GEKKO model\n",
        "y = m.Var(value=2)    # define new variable, initial value=2\n",
        "m.Equation(y**2==1)   # define new equation\n",
        "m.options.SOLVER=1    # change solver (1=APOPT,3=IPOPT)\n",
        "m.solve(disp=True)   # solve locally (remote=False)\n",
        "print('y: ' + str(y.value)) # print variable value"
      ]
    },
    {
      "cell_type": "markdown",
      "metadata": {
        "id": "R7YjSE6ROGhx"
      },
      "source": [
        "# 2: Linear Equations\n",
        "3x+2y=1 and x+2y=0"
      ]
    },
    {
      "cell_type": "code",
      "execution_count": null,
      "metadata": {
        "id": "V14ZgrEWOGhy",
        "outputId": "0c06bc4a-98d1-41fe-97ac-4c99caddf46b"
      },
      "outputs": [
        {
          "name": "stdout",
          "output_type": "stream",
          "text": [
            "[0.5] [-0.25]\n"
          ]
        }
      ],
      "source": [
        "from gekko import GEKKO\n",
        "m = GEKKO()            # create GEKKO model\n",
        "x = m.Var()            # define new variable, default=0\n",
        "y = m.Var()            # define new variable, default=0\n",
        "m.Equations([3*x+2*y==1, x+2*y==0])  # equations\n",
        "m.solve(disp=False)    # solve\n",
        "print(x.value,y.value) # print solution"
      ]
    },
    {
      "cell_type": "markdown",
      "metadata": {
        "id": "sW6FL0PeOGhz"
      },
      "source": [
        "# 3: Solve Nonlinear Equations\n",
        "x+2y=0\n",
        "x2+y2=1"
      ]
    },
    {
      "cell_type": "code",
      "execution_count": null,
      "metadata": {
        "id": "TQfCHoaGOGh0",
        "outputId": "853929e0-b9c7-4a98-9688-15aeb7d24159"
      },
      "outputs": [
        {
          "name": "stdout",
          "output_type": "stream",
          "text": [
            "[-0.89442724267, 0.44721362133]\n"
          ]
        }
      ],
      "source": [
        "m = GEKKO()             # create GEKKO model\n",
        "x = m.Var(value=0)      # define new variable, initial value=0\n",
        "y = m.Var(value=1)      # define new variable, initial value=1\n",
        "m.Equations([x + 2*y==0, x**2+y**2==1]) # equations\n",
        "m.solve(disp=False)     # solve\n",
        "print([x.value[0],y.value[0]]) # print solution"
      ]
    },
    {
      "cell_type": "markdown",
      "metadata": {
        "id": "enUYGpejOGh1"
      },
      "source": [
        "# 4: Linear and Polynomial Regression"
      ]
    },
    {
      "cell_type": "code",
      "execution_count": null,
      "metadata": {
        "id": "uWeur_1GOGh2",
        "outputId": "bffeb906-ca6e-4ac4-8853-9d1a2289f271"
      },
      "outputs": [
        {
          "data": {
            "text/plain": [
              "Text(0, 0.5, 'y')"
            ]
          },
          "execution_count": 3,
          "metadata": {},
          "output_type": "execute_result"
        },
        {
          "data": {
            "image/png": "[encoded data removed]",
            "text/plain": [
              "<Figure size 432x288 with 1 Axes>"
            ]
          },
          "metadata": {
            "needs_background": "light"
          },
          "output_type": "display_data"
        }
      ],
      "source": [
        "import numpy as np\n",
        "import matplotlib.pyplot as plt\n",
        "%matplotlib inline\n",
        "\n",
        "xm = np.array([0,1,2,3,4,5])\n",
        "ym = np.array([0.1,0.2,0.3,0.5,0.8,2.0])\n",
        "\n",
        "#### Solution\n",
        "from gekko import Gekko\n",
        "m = GEKKO()\n",
        "m.options.IMODE=2\n",
        "# coefficients\n",
        "c = [m.FV(value=0) for i in range(4)]\n",
        "x = m.Param(value=xm)\n",
        "y = m.CV(value=ym)\n",
        "y.FSTATUS = 1\n",
        "# polynomial model\n",
        "m.Equation(y==c[0]+c[1]*x+c[2]*x**2+c[3]*x**3)\n",
        "\n",
        "# linear regression\n",
        "c[0].STATUS=1\n",
        "c[1].STATUS=1\n",
        "m.solve(disp=False)\n",
        "p1 = [c[1].value[0],c[0].value[0]]\n",
        "\n",
        "# quadratic\n",
        "c[2].STATUS=1\n",
        "m.solve(disp=False)\n",
        "p2 = [c[2].value[0],c[1].value[0],c[0].value[0]]\n",
        "\n",
        "# cubic\n",
        "c[3].STATUS=1\n",
        "m.solve(disp=False)\n",
        "p3 = [c[3].value[0],c[2].value[0],c[1].value[0],c[0].value[0]]\n",
        "\n",
        "# plot fit\n",
        "plt.plot(xm,ym,'ko',markersize=10)\n",
        "xp = np.linspace(0,5,100)\n",
        "plt.plot(xp,np.polyval(p1,xp),'b--',linewidth=2)\n",
        "plt.plot(xp,np.polyval(p2,xp),'r--',linewidth=3)\n",
        "plt.plot(xp,np.polyval(p3,xp),'g:',linewidth=2)\n",
        "plt.legend(['Data','Linear','Quadratic','Cubic'],loc='best')\n",
        "plt.xlabel('x')\n",
        "plt.ylabel('y')"
      ]
    },
    {
      "cell_type": "code",
      "execution_count": null,
      "metadata": {
        "id": "LXDmwQ6lOGh3"
      },
      "outputs": [],
      "source": [
        ""
      ]
    },
    {
      "cell_type": "code",
      "execution_count": null,
      "metadata": {
        "id": "Irt3RvUfOGh4",
        "outputId": "047c7246-9f49-4abd-d9f7-50b5bcee8651"
      },
      "outputs": [
        {
          "name": "stdout",
          "output_type": "stream",
          "text": [
            "w1[0]: 1.080741831\n",
            "w1[1]: 0.75667329922\n",
            "w2a[0]: -0.027078572846\n",
            "w2b[0]: 0.27741484924\n",
            "w2a[1]: 0.86380100674\n",
            "w2b[1]: 0.2642262989\n",
            "w2a[2]: -0.92359576027\n",
            "w2b[2]: 0.27181565974\n",
            "w2a[3]: -1.8660517093\n",
            "w2b[3]: 0.39707803555\n",
            "w2a[4]: 0.37000097658\n",
            "w2b[4]: 0.20243578122\n",
            "w2a[5]: -2.2635578026\n",
            "w2b[5]: 0.31743330489\n",
            "w3[0]: 7.9923548396\n",
            "w3[1]: 7.9923618485\n",
            "w3[2]: -3.8520808977\n",
            "w3[3]: -3.8514155231\n",
            "w3[4]: -6.967266008\n",
            "w3[5]: -6.9675296596\n"
          ]
        },
        {
          "data": {
            "image/png": "[encoded data removed]",
            "text/plain": [
              "<Figure size 432x288 with 1 Axes>"
            ]
          },
          "metadata": {
            "needs_background": "light"
          },
          "output_type": "display_data"
        }
      ],
      "source": [
        "from gekko import GEKKO\n",
        "import numpy as np\n",
        "import matplotlib.pyplot as plt  \n",
        "%matplotlib inline\n",
        "\n",
        "# generate training data\n",
        "x = np.linspace(0.0,2*np.pi,20)\n",
        "y = np.sin(x)\n",
        "\n",
        "# option for fitting function\n",
        "select = False # True / False\n",
        "if select:\n",
        "    # Size with cosine function\n",
        "    nin = 1  # inputs\n",
        "    n1 = 1   # hidden layer 1 (linear)\n",
        "    n2 = 1   # hidden layer 2 (nonlinear)\n",
        "    n3 = 1  # hidden layer 3 (linear)\n",
        "    nout = 1 # outputs\n",
        "else:\n",
        "    # Size with hyperbolic tangent function\n",
        "    nin = 1  # inputs\n",
        "    n1 = 2   # hidden layer 1 (linear)\n",
        "    n2 = 3   # hidden layer 2 (nonlinear)\n",
        "    n3 = 2   # hidden layer 3 (linear)\n",
        "    nout = 1 # outputs\n",
        "\n",
        "# Initialize gekko\n",
        "train = GEKKO()\n",
        "test = GEKKO()\n",
        "\n",
        "model = [train,test]\n",
        "\n",
        "for m in model:\n",
        "    # input(s)\n",
        "    m.inpt = m.Param()\n",
        "\n",
        "    # layer 1\n",
        "    m.w1 = m.Array(m.FV, (nin,n1))\n",
        "    m.l1 = [m.Intermediate(m.w1[0,i]*m.inpt) for i in range(n1)]\n",
        "\n",
        "    # layer 2\n",
        "    m.w2a = m.Array(m.FV, (n1,n2))\n",
        "    m.w2b = m.Array(m.FV, (n1,n2))\n",
        "    if select:\n",
        "        m.l2 = [m.Intermediate(sum([m.cos(m.w2a[j,i]+m.w2b[j,i]*m.l1[j]) \\\n",
        "                                for j in range(n1)])) for i in range(n2)]\n",
        "    else:\n",
        "        m.l2 = [m.Intermediate(sum([m.tanh(m.w2a[j,i]+m.w2b[j,i]*m.l1[j]) \\\n",
        "                                for j in range(n1)])) for i in range(n2)]\n",
        "\n",
        "    # layer 3\n",
        "    m.w3 = m.Array(m.FV, (n2,n3))\n",
        "    m.l3 = [m.Intermediate(sum([m.w3[j,i]*m.l2[j] \\\n",
        "            for j in range(n2)])) for i in range(n3)]\n",
        "\n",
        "    # output(s)\n",
        "    m.outpt = m.CV()\n",
        "    m.Equation(m.outpt==sum([m.l3[i] for i in range(n3)]))\n",
        "\n",
        "    # flatten matrices\n",
        "    m.w1 = m.w1.flatten()\n",
        "    m.w2a = m.w2a.flatten()\n",
        "    m.w2b = m.w2b.flatten()\n",
        "    m.w3 = m.w3.flatten()\n",
        "\n",
        "# Fit parameter weights\n",
        "m = train\n",
        "m.inpt.value=x\n",
        "m.outpt.value=y\n",
        "m.outpt.FSTATUS = 1\n",
        "for i in range(len(m.w1)):\n",
        "    m.w1[i].FSTATUS=1\n",
        "    m.w1[i].STATUS=1\n",
        "    m.w1[i].MEAS=1.0\n",
        "for i in range(len(m.w2a)):\n",
        "    m.w2a[i].STATUS=1\n",
        "    m.w2b[i].STATUS=1\n",
        "    m.w2a[i].FSTATUS=1\n",
        "    m.w2b[i].FSTATUS=1\n",
        "    m.w2a[i].MEAS=1.0\n",
        "    m.w2b[i].MEAS=0.5\n",
        "for i in range(len(m.w3)):\n",
        "    m.w3[i].FSTATUS=1\n",
        "    m.w3[i].STATUS=1\n",
        "    m.w3[i].MEAS=1.0\n",
        "m.options.IMODE = 2\n",
        "m.options.SOLVER = 3\n",
        "m.options.EV_TYPE = 2\n",
        "m.solve(disp=False)\n",
        "\n",
        "# Test sample points\n",
        "m = test\n",
        "for i in range(len(m.w1)):\n",
        "    m.w1[i].MEAS=train.w1[i].NEWVAL\n",
        "    m.w1[i].FSTATUS = 1\n",
        "    print('w1['+str(i)+']: '+str(m.w1[i].MEAS))\n",
        "for i in range(len(m.w2a)):\n",
        "    m.w2a[i].MEAS=train.w2a[i].NEWVAL\n",
        "    m.w2b[i].MEAS=train.w2b[i].NEWVAL\n",
        "    m.w2a[i].FSTATUS = 1\n",
        "    m.w2b[i].FSTATUS = 1\n",
        "    print('w2a['+str(i)+']: '+str(m.w2a[i].MEAS))\n",
        "    print('w2b['+str(i)+']: '+str(m.w2b[i].MEAS))\n",
        "for i in range(len(m.w3)):\n",
        "    m.w3[i].MEAS=train.w3[i].NEWVAL\n",
        "    m.w3[i].FSTATUS = 1\n",
        "    print('w3['+str(i)+']: '+str(m.w3[i].MEAS))\n",
        "m.inpt.value=np.linspace(-2*np.pi,4*np.pi,100)\n",
        "m.options.IMODE = 2\n",
        "m.options.SOLVER = 3\n",
        "m.solve(disp=False)\n",
        "\n",
        "plt.figure()\n",
        "plt.plot(x,y,'bo')\n",
        "plt.plot(test.inpt.value,test.outpt.value,'r-')\n",
        "plt.show()"
      ]
    },
    {
      "cell_type": "code",
      "execution_count": null,
      "metadata": {
        "id": "FmHolNN7OGh7"
      },
      "outputs": [],
      "source": [
        ""
      ]
    }
  ],
  "metadata": {
    "kernelspec": {
      "display_name": "Python 3",
      "language": "python",
      "name": "python3"
    },
    "language_info": {
      "codemirror_mode": {
        "name": "ipython",
        "version": 3
      },
      "file_extension": ".py",
      "mimetype": "text/x-python",
      "name": "python",
      "nbconvert_exporter": "python",
      "pygments_lexer": "ipython3",
      "version": "3.7.4"
    },
    "colab": {
      "name": "GEKKO Task.ipynb",
      "provenance": [],
      "include_colab_link": true
    }
  },
  "nbformat": 4,
  "nbformat_minor": 0
}